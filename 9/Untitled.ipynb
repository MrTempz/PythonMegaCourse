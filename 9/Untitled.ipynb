{
 "cells": [
  {
   "cell_type": "code",
   "execution_count": 14,
   "id": "dc8933b9",
   "metadata": {},
   "outputs": [
    {
     "name": "stdout",
     "output_type": "stream",
     "text": [
      "Provide password: Test1234\n",
      "Your password is very strong\n"
     ]
    }
   ],
   "source": [
    "password = input('Provide password: ')\n",
    "strength_dict = {0:'very weak', 1:'weak', 2:'ok', 3:'strong', 4:'very strong'}\n",
    "\n",
    "strength = {}\n",
    "strength['length'] = len(password) >= 8\n",
    "strength['lowercase'] = sum([char.islower() for char in password]) > 0\n",
    "strength['digit'] = sum([char.isdigit() for char in password]) > 0\n",
    "strength['uppercase'] = sum([char.isupper() for char in password]) > 0\n",
    "print(f'Your password is {strength_dict[sum(strength.values())]}')"
   ]
  },
  {
   "cell_type": "code",
   "execution_count": null,
   "id": "cdd96551",
   "metadata": {},
   "outputs": [],
   "source": []
  }
 ],
 "metadata": {
  "kernelspec": {
   "display_name": "Python 3 (ipykernel)",
   "language": "python",
   "name": "python3"
  },
  "language_info": {
   "codemirror_mode": {
    "name": "ipython",
    "version": 3
   },
   "file_extension": ".py",
   "mimetype": "text/x-python",
   "name": "python",
   "nbconvert_exporter": "python",
   "pygments_lexer": "ipython3",
   "version": "3.9.12"
  }
 },
 "nbformat": 4,
 "nbformat_minor": 5
}
